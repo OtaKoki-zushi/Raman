{
 "cells": [
  {
   "cell_type": "code",
   "execution_count": 3,
   "id": "9277e7e4",
   "metadata": {},
   "outputs": [
    {
     "name": "stdout",
     "output_type": "stream",
     "text": [
      "IBWファイルが 'result/ramanshift_20241014_1808.ibw' に保存されました。\n"
     ]
    }
   ],
   "source": [
    "import os\n",
    "import datetime\n",
    "import numpy as np\n",
    "from igorwriter import IgorWave5\n",
    "\n",
    "# ランダムなデータを作成（例：ラマンシフトデータ）\n",
    "ramanshift = np.random.rand(100)  # 1次元データ\n",
    "\n",
    "# 尖度マップを .ibw ファイルに保存\n",
    "def save_to_ibw(ramanshift, file_name='ramanshift'):\n",
    "    # 'result'フォルダが存在しない場合は作成\n",
    "    if not os.path.exists('result'):\n",
    "        os.makedirs('result')\n",
    "    \n",
    "    # 今日の日付と現在の時間を取得してフォーマット\n",
    "    now = datetime.datetime.now()\n",
    "    date_str = now.strftime('%Y%m%d')  \n",
    "    time_str = now.strftime('%H%M')   \n",
    "\n",
    "    # 日付と時間をファイル名に追加\n",
    "    file_name_with_datetime = f\"{file_name}_{date_str}_{time_str}.ibw\"\n",
    "\n",
    "    # ファイルパスを 'result' フォルダに設定\n",
    "    file_path = os.path.join('result', file_name_with_datetime)\n",
    "\n",
    "    # IgorWave5オブジェクトを作成し、kurtosis_mapデータを保存\n",
    "    wave = IgorWave5(\n",
    "        ramanshift,           # 保存するデータ\n",
    "        name=\"ramanshift\",    # 波形の名前\n",
    "        unicode=True,           # Unicodeサポート\n",
    "        int64_support=False     # int64サポートの有無\n",
    "    )\n",
    "\n",
    "    # .ibwファイルとして保存\n",
    "    wave.save(file_path)\n",
    "    print(f\"IBWファイルが '{file_path}' に保存されました。\")\n",
    "\n",
    "# kurtosis_mapを .ibw ファイルに保存する\n",
    "save_to_ibw(ramanshift)\n"
   ]
  },
  {
   "cell_type": "code",
   "execution_count": 2,
   "id": "0881c9bc",
   "metadata": {},
   "outputs": [
    {
     "name": "stdout",
     "output_type": "stream",
     "text": [
      "[0.08047938 0.15927863 0.51781066 0.28531832 0.51330114 0.47968854\n",
      " 0.23562078 0.72014449 0.98147764 0.21973636 0.52874409 0.66678856\n",
      " 0.61539017 0.90264333 0.24063213 0.66083708 0.34708199 0.28013467\n",
      " 0.25036755 0.95864841 0.72190189 0.80092555 0.9024156  0.50822695\n",
      " 0.98245419 0.97389833 0.78269665 0.26129365 0.98690498 0.09536884\n",
      " 0.74051418 0.28551378 0.51477409 0.52913627 0.738941   0.38506623\n",
      " 0.60442216 0.37451516 0.07878561 0.33195376 0.98382918 0.59414226\n",
      " 0.50076846 0.01634685 0.13514109 0.52640714 0.81981474 0.73734638\n",
      " 0.66701782 0.38755122 0.13870478 0.96807473 0.87901001 0.37340042\n",
      " 0.0149324  0.16517309 0.01267719 0.45487557 0.43436117 0.19922248\n",
      " 0.07934127 0.84683206 0.98390355 0.62630264 0.71838721 0.67559483\n",
      " 0.62113008 0.41358712 0.16879167 0.09054532 0.73868811 0.11796531\n",
      " 0.39064563 0.76924015 0.05505662 0.82482128 0.87786744 0.64557375\n",
      " 0.27919754 0.51348819 0.82894353 0.3022455  0.32445263 0.87266762\n",
      " 0.19486155 0.4178474  0.10043224 0.50684954 0.96778612 0.42755785\n",
      " 0.95456457 0.69047162 0.15607936 0.4962138  0.87269974 0.41925787\n",
      " 0.60344197 0.20920248 0.16020919 0.2099224 ]\n"
     ]
    }
   ],
   "source": [
    "import igor.binarywave as bw\n",
    "\n",
    "# .ibwファイルの読み込み\n",
    "def read_ibw(file_path):\n",
    "    bw_data = bw.load(file_path)\n",
    "    data = bw_data['wave']['wData']  # データ部分を取得\n",
    "    return data\n",
    "\n",
    "file_path = 'data.ibw'  # .ibwファイルのパス\n",
    "data = read_ibw(file_path)\n",
    "\n",
    "print(data)\n"
   ]
  },
  {
   "cell_type": "code",
   "execution_count": 2,
   "id": "f77a341e",
   "metadata": {},
   "outputs": [
    {
     "name": "stdout",
     "output_type": "stream",
     "text": [
      "IBWファイルが 'data.ibw' に保存されました。\n"
     ]
    }
   ],
   "source": [
    "import os\n",
    "import numpy as np\n",
    "from igorwriter import IgorWave5\n",
    "from datetime import datetime\n",
    "\n",
    "ramanshift = np.random.rand(100)  # 1次元データ\n",
    "\n",
    "# 尖度マップを .ibw ファイルに保存\n",
    "def save_to_ibw(data, root_folder='result'):\n",
    "    # 今日の日付を取得し、フォルダ名に使用\n",
    "    today_date = datetime.now().strftime('%Y%m%d')\n",
    "    \n",
    "    # 保存する日時を取得し、ファイル名に組み込む\n",
    "    current_time = datetime.now().strftime('%Y%m%d_%H%M%S')\n",
    "    file_name = f\"kurtosis_map_{current_time}.ibw\"\n",
    "    \n",
    "    # 今日の日付のフォルダを作成\n",
    "    folder_path = os.path.join(root_folder, today_date)\n",
    "    \n",
    "    # フォルダが存在しない場合は作成\n",
    "    if not os.path.exists(folder_path):\n",
    "        os.makedirs(folder_path)\n",
    "    \n",
    "    # ファイルパスを組み立て\n",
    "    file_path = os.path.join(folder_path, file_name)\n",
    "    \n",
    "    # IgorWave5オブジェクトを作成し、kurtosis_mapデータを保存\n",
    "    wave = IgorWave5(\n",
    "        data,           # 保存するデータ\n",
    "        name=\"kurtosis_map\",    # 波形の名前\n",
    "        unicode=True,           # Unicodeサポート\n",
    "        int64_support=False     # int64サポートの有無\n",
    "    )\n",
    "\n",
    "    # .ibwファイルとして保存\n",
    "    wave.save(file_path)\n",
    "    print(f\"IBWファイルが '{file_path}' に保存されました。\")\n",
    "\n",
    "# kurtosis_mapを .ibw ファイルに保存する\n",
    "save_to_ibw(ramanshift)\n"
   ]
  },
  {
   "cell_type": "code",
   "execution_count": null,
   "id": "63adc115",
   "metadata": {},
   "outputs": [],
   "source": []
  }
 ],
 "metadata": {
  "kernelspec": {
   "display_name": "Python (igor)",
   "language": "python",
   "name": "igor"
  },
  "language_info": {
   "codemirror_mode": {
    "name": "ipython",
    "version": 3
   },
   "file_extension": ".py",
   "mimetype": "text/x-python",
   "name": "python",
   "nbconvert_exporter": "python",
   "pygments_lexer": "ipython3",
   "version": "3.13.0"
  }
 },
 "nbformat": 4,
 "nbformat_minor": 5
}
