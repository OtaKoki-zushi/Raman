{
 "cells": [
  {
   "cell_type": "code",
   "execution_count": 1,
   "id": "38aca802",
   "metadata": {},
   "outputs": [],
   "source": [
    "# ! pip install pyfftw \n",
    "# ! pip install torch\n",
    "\n",
    "\n"
   ]
  },
  {
   "cell_type": "code",
   "execution_count": 1,
   "id": "0a688793-0933-42ee-afc6-43493ef64835",
   "metadata": {},
   "outputs": [
    {
     "ename": "ModuleNotFoundError",
     "evalue": "No module named 'spe_loader'",
     "output_type": "error",
     "traceback": [
      "\u001b[0;31m---------------------------------------------------------------------------\u001b[0m",
      "\u001b[0;31mModuleNotFoundError\u001b[0m                       Traceback (most recent call last)",
      "Cell \u001b[0;32mIn[1], line 1\u001b[0m\n\u001b[0;32m----> 1\u001b[0m \u001b[38;5;28;01mfrom\u001b[39;00m \u001b[38;5;21;01mmy_func\u001b[39;00m\u001b[38;5;21;01m.\u001b[39;00m\u001b[38;5;21;01mDataLoad_Preprocessing\u001b[39;00m \u001b[38;5;28;01mimport\u001b[39;00m CARSDataProcessor\n\u001b[1;32m      3\u001b[0m processor \u001b[38;5;241m=\u001b[39m CARSDataProcessor()\n\u001b[1;32m      4\u001b[0m filenames \u001b[38;5;241m=\u001b[39m [\u001b[38;5;124m'\u001b[39m\u001b[38;5;124mdata/0926PB_21_21_3_raw.spe\u001b[39m\u001b[38;5;124m'\u001b[39m, \u001b[38;5;124m'\u001b[39m\u001b[38;5;124mdata/0926PB_21_21_3_bg.spe\u001b[39m\u001b[38;5;124m'\u001b[39m, \u001b[38;5;124m'\u001b[39m\u001b[38;5;124mdata/0926PB_21_21_3_nr.spe\u001b[39m\u001b[38;5;124m'\u001b[39m]\n",
      "File \u001b[0;32m~/Library/CloudStorage/Box-Box/KanoLab/Raman/my_func/DataLoad_Preprocessing.py:6\u001b[0m\n\u001b[1;32m      1\u001b[0m \u001b[38;5;66;03m# spe_fileを読み込みcsv_fileとして保存します。\u001b[39;00m\n\u001b[1;32m      2\u001b[0m \u001b[38;5;66;03m#darkNonres(raw_data, bg_data, nr_data), wave2Dto4D(rawwv, 31, 31, 1)の計算を行います。\u001b[39;00m\n\u001b[1;32m      3\u001b[0m \n\u001b[1;32m      4\u001b[0m \u001b[38;5;66;03m#spe_loaderがサポートされているか確認してください。\u001b[39;00m\n\u001b[0;32m----> 6\u001b[0m \u001b[38;5;28;01mimport\u001b[39;00m \u001b[38;5;21;01mspe_loader\u001b[39;00m \u001b[38;5;28;01mas\u001b[39;00m \u001b[38;5;21;01msl\u001b[39;00m\n\u001b[1;32m      7\u001b[0m \u001b[38;5;28;01mimport\u001b[39;00m \u001b[38;5;21;01mnumpy\u001b[39;00m \u001b[38;5;28;01mas\u001b[39;00m \u001b[38;5;21;01mnp\u001b[39;00m\n\u001b[1;32m      8\u001b[0m \u001b[38;5;28;01mimport\u001b[39;00m \u001b[38;5;21;01mos\u001b[39;00m\n",
      "\u001b[0;31mModuleNotFoundError\u001b[0m: No module named 'spe_loader'"
     ]
    }
   ],
   "source": [
    "from my_func.DataLoad_Preprocessing import CARSDataProcessor\n",
    "\n",
    "processor = CARSDataProcessor()\n",
    "filenames = ['data/0926PB_21_21_3_raw.spe', 'data/0926PB_21_21_3_bg.spe', 'data/0926PB_21_21_3_nr.spe']\n",
    "\n",
    "\n",
    "raw_data, bg_data, nr_data = processor.load_spe_files(filenames)\n",
    "\n",
    "# processor.save_to_csv(raw_data, 'raw_data')\n",
    "# processor.save_to_csv(bg_data, 'bg_data')\n",
    "# processor.save_to_csv(nr_data, 'nr_data')\n",
    "\n",
    "# データの型と形状を表示\n",
    "print(\"raw ->\", raw_data.shape)\n",
    "print(\"bg  ->\", bg_data.shape)\n",
    "print(\"nr  ->\", nr_data.shape)\n",
    "\n",
    "rawwv = processor.darkNonres(raw_data, bg_data, nr_data)\n",
    "print(\"dim ->\", rawwv.ndim)\n",
    "\n",
    "cars = processor.wave2Dto4D(rawwv, 21, 21, 3)\n",
    "\n",
    "print(len(cars[0]))\n",
    "print(\"dim ->\", cars.ndim)\n",
    "\n",
    "\n",
    "cars1 = cars[:, 15:20, 15:20, 1]\n",
    "\n",
    "# 結果を表示\n",
    "print(cars1.shape)\n",
    "print()\n",
    "\n"
   ]
  },
  {
   "cell_type": "code",
   "execution_count": 2,
   "id": "24cc71eb",
   "metadata": {},
   "outputs": [],
   "source": [
    "import pandas as pd\n",
    "import numpy as np\n",
    "from my_func.Mem import MEM\n",
    "\n",
    "# MEMクラスのインスタンスを作成\n",
    "Mem_process = MEM(-3700, -500)  # MEMクラスをインスタンス化\n",
    "\n",
    "data = pd.read_csv('/Users/ootahiroki/KanoLab/Raman/data/ramanshift_output.csv')\n",
    "\n",
    "# pandas DataFrameをNumPy配列に変換\n",
    "ramanshift = data.to_numpy()\n",
    "\n",
    "rs = np.ravel(ramanshift)  # 1次元配列に変換\n",
    "cars = cars1  \n",
    "\n",
    "m_rs, m_cars = Mem_process.memprep(rs, cars)\n",
    "\n",
    "# マルチプロセス処理の実行\n",
    "rs_interp, specs_mt = Mem_process.mem_multi_mt(cars, rs, n_processes=4)  \n",
    "\n"
   ]
  },
  {
   "cell_type": "code",
   "execution_count": 3,
   "id": "5902fe3e",
   "metadata": {},
   "outputs": [],
   "source": [
    "import matplotlib\n",
    "\n",
    "# TkAggバックエンドの使用を指定（必要に応じて設定）\n",
    "matplotlib.use('TkAgg')  # または 'Qt5Agg'\n",
    "\n",
    "# 任意の(x, y)の位置のスペクトルをプロット\n",
    "Mem_process.plot_spectra(rs_interp, specs_mt, x=3, y=3)  "
   ]
  },
  {
   "cell_type": "code",
   "execution_count": null,
   "id": "51704815",
   "metadata": {},
   "outputs": [],
   "source": []
  },
  {
   "cell_type": "code",
   "execution_count": null,
   "id": "c90ef52f",
   "metadata": {},
   "outputs": [],
   "source": []
  },
  {
   "cell_type": "code",
   "execution_count": null,
   "id": "53dda745",
   "metadata": {},
   "outputs": [],
   "source": []
  },
  {
   "cell_type": "code",
   "execution_count": null,
   "id": "86215796",
   "metadata": {},
   "outputs": [],
   "source": []
  }
 ],
 "metadata": {
  "kernelspec": {
   "display_name": "Python (MEM_new)",
   "language": "python",
   "name": "mem_new"
  },
  "language_info": {
   "codemirror_mode": {
    "name": "ipython",
    "version": 3
   },
   "file_extension": ".py",
   "mimetype": "text/x-python",
   "name": "python",
   "nbconvert_exporter": "python",
   "pygments_lexer": "ipython3",
   "version": "3.10.15"
  }
 },
 "nbformat": 4,
 "nbformat_minor": 5
}
